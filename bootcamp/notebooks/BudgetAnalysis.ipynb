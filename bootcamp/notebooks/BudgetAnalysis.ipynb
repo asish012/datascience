{
 "cells": [
  {
   "cell_type": "code",
   "execution_count": 1,
   "metadata": {
    "collapsed": true
   },
   "outputs": [],
   "source": [
    "import pandas as pd\n",
    "import numpy as np\n",
    "import seaborn as sns\n",
    "import matplotlib.pyplot as plt\n",
    "%matplotlib inline"
   ]
  },
  {
   "cell_type": "code",
   "execution_count": 2,
   "metadata": {},
   "outputs": [
    {
     "ename": "ImportError",
     "evalue": "No module named cufflinks",
     "output_type": "error",
     "traceback": [
      "\u001b[0;31m---------------------------------------------------------------------------\u001b[0m",
      "\u001b[0;31mImportError\u001b[0m                               Traceback (most recent call last)",
      "\u001b[0;32m<ipython-input-2-9213252b704b>\u001b[0m in \u001b[0;36m<module>\u001b[0;34m()\u001b[0m\n\u001b[0;32m----> 1\u001b[0;31m \u001b[0;32mimport\u001b[0m \u001b[0mcufflinks\u001b[0m \u001b[0;32mas\u001b[0m \u001b[0mcf\u001b[0m\u001b[0;34m\u001b[0m\u001b[0m\n\u001b[0m\u001b[1;32m      2\u001b[0m \u001b[0;32mfrom\u001b[0m \u001b[0mplotly\u001b[0m\u001b[0;34m.\u001b[0m\u001b[0moffline\u001b[0m \u001b[0;32mimport\u001b[0m \u001b[0mdownload_plotlyjs\u001b[0m\u001b[0;34m,\u001b[0m \u001b[0minit_notebook_mode\u001b[0m\u001b[0;34m,\u001b[0m \u001b[0mplot\u001b[0m\u001b[0;34m,\u001b[0m \u001b[0miplot\u001b[0m\u001b[0;34m\u001b[0m\u001b[0m\n\u001b[1;32m      3\u001b[0m \u001b[0;34m\u001b[0m\u001b[0m\n\u001b[1;32m      4\u001b[0m \u001b[0minit_notebook_mode\u001b[0m\u001b[0;34m(\u001b[0m\u001b[0mconnected\u001b[0m\u001b[0;34m=\u001b[0m\u001b[0mTrue\u001b[0m\u001b[0;34m)\u001b[0m\u001b[0;34m\u001b[0m\u001b[0m\n\u001b[1;32m      5\u001b[0m \u001b[0mcf\u001b[0m\u001b[0;34m.\u001b[0m\u001b[0mgo_offline\u001b[0m\u001b[0;34m(\u001b[0m\u001b[0;34m)\u001b[0m\u001b[0;34m\u001b[0m\u001b[0m\n",
      "\u001b[0;31mImportError\u001b[0m: No module named cufflinks"
     ]
    }
   ],
   "source": [
    "import cufflinks as cf\n",
    "from plotly.offline import download_plotlyjs, init_notebook_mode, plot, iplot\n",
    "\n",
    "init_notebook_mode(connected=True)\n",
    "cf.go_offline()"
   ]
  },
  {
   "cell_type": "code",
   "execution_count": 151,
   "metadata": {
    "collapsed": true
   },
   "outputs": [],
   "source": [
    "df = pd.read_csv('../budget_report_2019-03-31.csv', \n",
    "                 sep=';', \n",
    "                 parse_dates=['date'],\n",
    "                 index_col='date')\n",
    "df['amount'] = df['amount'].abs()\n",
    "\n",
    "df18 = df.loc['2019-01-01':'2018-01-01']\n",
    "df18 = df.drop(['ref_currency_amount', \n",
    "                'payment_type', \n",
    "                'payment_type_local', \n",
    "                'gps_latitude', \n",
    "                'gps_longitude', \n",
    "                'gps_accuracy_in_meters',\n",
    "                'warranty_in_month',\n",
    "                'transfer',\n",
    "                'custom_category'],\n",
    "               axis=1)"
   ]
  },
  {
   "cell_type": "code",
   "execution_count": 152,
   "metadata": {},
   "outputs": [
    {
     "data": {
      "text/html": [
       "<div>\n",
       "<style scoped>\n",
       "    .dataframe tbody tr th:only-of-type {\n",
       "        vertical-align: middle;\n",
       "    }\n",
       "\n",
       "    .dataframe tbody tr th {\n",
       "        vertical-align: top;\n",
       "    }\n",
       "\n",
       "    .dataframe thead th {\n",
       "        text-align: right;\n",
       "    }\n",
       "</style>\n",
       "<table border=\"1\" class=\"dataframe\">\n",
       "  <thead>\n",
       "    <tr style=\"text-align: right;\">\n",
       "      <th></th>\n",
       "      <th>account</th>\n",
       "      <th>category</th>\n",
       "      <th>currency</th>\n",
       "      <th>amount</th>\n",
       "      <th>type</th>\n",
       "      <th>note</th>\n",
       "      <th>payee</th>\n",
       "      <th>labels</th>\n",
       "      <th>envelope_id</th>\n",
       "    </tr>\n",
       "    <tr>\n",
       "      <th>date</th>\n",
       "      <th></th>\n",
       "      <th></th>\n",
       "      <th></th>\n",
       "      <th></th>\n",
       "      <th></th>\n",
       "      <th></th>\n",
       "      <th></th>\n",
       "      <th></th>\n",
       "      <th></th>\n",
       "    </tr>\n",
       "  </thead>\n",
       "  <tbody>\n",
       "    <tr>\n",
       "      <th>2019-03-18 12:41:50</th>\n",
       "      <td>Monthly expenses</td>\n",
       "      <td>Restaurant, fast-food</td>\n",
       "      <td>EUR</td>\n",
       "      <td>4.50</td>\n",
       "      <td>Expenses</td>\n",
       "      <td>turkish lunch</td>\n",
       "      <td>NaN</td>\n",
       "      <td>Household</td>\n",
       "      <td>1001</td>\n",
       "    </tr>\n",
       "    <tr>\n",
       "      <th>2019-03-16 18:14:26</th>\n",
       "      <td>Monthly expenses</td>\n",
       "      <td>Groceries</td>\n",
       "      <td>EUR</td>\n",
       "      <td>13.88</td>\n",
       "      <td>Expenses</td>\n",
       "      <td>NaN</td>\n",
       "      <td>Aldi</td>\n",
       "      <td>Household</td>\n",
       "      <td>1000</td>\n",
       "    </tr>\n",
       "    <tr>\n",
       "      <th>2019-03-16 00:27:10</th>\n",
       "      <td>Monthly expenses</td>\n",
       "      <td>Internet</td>\n",
       "      <td>EUR</td>\n",
       "      <td>19.95</td>\n",
       "      <td>Expenses</td>\n",
       "      <td>temporary internet</td>\n",
       "      <td>Telecom Fon</td>\n",
       "      <td>Household</td>\n",
       "      <td>7002</td>\n",
       "    </tr>\n",
       "    <tr>\n",
       "      <th>2019-03-15 16:03:17</th>\n",
       "      <td>Monthly expenses</td>\n",
       "      <td>Groceries</td>\n",
       "      <td>EUR</td>\n",
       "      <td>6.52</td>\n",
       "      <td>Expenses</td>\n",
       "      <td>NaN</td>\n",
       "      <td>lidl</td>\n",
       "      <td>Household</td>\n",
       "      <td>1000</td>\n",
       "    </tr>\n",
       "    <tr>\n",
       "      <th>2019-03-15 15:54:07</th>\n",
       "      <td>Monthly expenses</td>\n",
       "      <td>Wellness, beauty</td>\n",
       "      <td>EUR</td>\n",
       "      <td>14.00</td>\n",
       "      <td>Expenses</td>\n",
       "      <td>haircut asish</td>\n",
       "      <td>NaN</td>\n",
       "      <td>Household</td>\n",
       "      <td>6001</td>\n",
       "    </tr>\n",
       "  </tbody>\n",
       "</table>\n",
       "</div>"
      ],
      "text/plain": [
       "                              account               category currency  amount  \\\n",
       "date                                                                            \n",
       "2019-03-18 12:41:50  Monthly expenses  Restaurant, fast-food      EUR    4.50   \n",
       "2019-03-16 18:14:26  Monthly expenses              Groceries      EUR   13.88   \n",
       "2019-03-16 00:27:10  Monthly expenses               Internet      EUR   19.95   \n",
       "2019-03-15 16:03:17  Monthly expenses              Groceries      EUR    6.52   \n",
       "2019-03-15 15:54:07  Monthly expenses       Wellness, beauty      EUR   14.00   \n",
       "\n",
       "                         type                note        payee     labels  \\\n",
       "date                                                                        \n",
       "2019-03-18 12:41:50  Expenses       turkish lunch          NaN  Household   \n",
       "2019-03-16 18:14:26  Expenses                 NaN         Aldi  Household   \n",
       "2019-03-16 00:27:10  Expenses  temporary internet  Telecom Fon  Household   \n",
       "2019-03-15 16:03:17  Expenses                 NaN         lidl  Household   \n",
       "2019-03-15 15:54:07  Expenses       haircut asish          NaN  Household   \n",
       "\n",
       "                     envelope_id  \n",
       "date                              \n",
       "2019-03-18 12:41:50         1001  \n",
       "2019-03-16 18:14:26         1000  \n",
       "2019-03-16 00:27:10         7002  \n",
       "2019-03-15 16:03:17         1000  \n",
       "2019-03-15 15:54:07         6001  "
      ]
     },
     "execution_count": 152,
     "metadata": {},
     "output_type": "execute_result"
    }
   ],
   "source": [
    "df18.head()"
   ]
  },
  {
   "cell_type": "code",
   "execution_count": 105,
   "metadata": {
    "collapsed": true
   },
   "outputs": [],
   "source": [
    "# df[['category','envelope_id']].drop_duplicates().sort_values('envelope_id')\n",
    "# df.dtypes"
   ]
  },
  {
   "cell_type": "code",
   "execution_count": 5,
   "metadata": {},
   "outputs": [
    {
     "data": {
      "text/plain": [
       "2073.1300000000001"
      ]
     },
     "execution_count": 5,
     "metadata": {},
     "output_type": "execute_result"
    }
   ],
   "source": [
    "df['2017-11'].amount.sum()"
   ]
  },
  {
   "cell_type": "code",
   "execution_count": 106,
   "metadata": {},
   "outputs": [
    {
     "data": {
      "application/vnd.plotly.v1+json": {
       "config": {
        "linkText": "Export to plot.ly",
        "plotlyServerURL": "https://plot.ly",
        "showLink": true
       },
       "data": [
        {
         "marker": {
          "color": "rgba(255, 153, 51, 0.6)",
          "line": {
           "color": "rgba(255, 153, 51, 1.0)",
           "width": 1
          }
         },
         "name": "amount",
         "orientation": "v",
         "text": "",
         "type": "bar",
         "uid": "670a8aa5-7a92-4986-8abe-906a960be52b",
         "x": [
          "2018-01-31",
          "2018-02-28",
          "2018-03-31",
          "2018-04-30",
          "2018-05-31",
          "2018-06-30",
          "2018-07-31",
          "2018-08-31",
          "2018-09-30",
          "2018-10-31",
          "2018-11-30",
          "2018-12-31"
         ],
         "y": [
          1190.7800000000002,
          2036.1200000000001,
          1835.58,
          5149.469999999999,
          2323.63,
          2118.3500000000004,
          2046.6300000000003,
          1991.84,
          2171.6,
          1993.25,
          1650.31,
          3108.8000000000006
         ]
        }
       ],
       "layout": {
        "legend": {
         "bgcolor": "#F5F6F9",
         "font": {
          "color": "#4D5663"
         }
        },
        "paper_bgcolor": "#F5F6F9",
        "plot_bgcolor": "#F5F6F9",
        "title": {
         "font": {
          "color": "#4D5663"
         }
        },
        "xaxis": {
         "gridcolor": "#E1E5ED",
         "showgrid": true,
         "tickfont": {
          "color": "#4D5663"
         },
         "title": {
          "font": {
           "color": "#4D5663"
          },
          "text": ""
         },
         "zerolinecolor": "#E1E5ED"
        },
        "yaxis": {
         "gridcolor": "#E1E5ED",
         "showgrid": true,
         "tickfont": {
          "color": "#4D5663"
         },
         "title": {
          "font": {
           "color": "#4D5663"
          },
          "text": ""
         },
         "zerolinecolor": "#E1E5ED"
        }
       }
      },
      "text/html": [
       "<div id=\"e0193f5a-e410-4cad-be5e-dcc93a4a8236\" style=\"height: 525px; width: 100%;\" class=\"plotly-graph-div\"></div><script type=\"text/javascript\">require([\"plotly\"], function(Plotly) { window.PLOTLYENV=window.PLOTLYENV || {};window.PLOTLYENV.BASE_URL=\"https://plot.ly\";\n",
       "if (document.getElementById(\"e0193f5a-e410-4cad-be5e-dcc93a4a8236\")) {\n",
       "    Plotly.newPlot(\"e0193f5a-e410-4cad-be5e-dcc93a4a8236\", [{\"marker\": {\"color\": \"rgba(255, 153, 51, 0.6)\", \"line\": {\"color\": \"rgba(255, 153, 51, 1.0)\", \"width\": 1}}, \"name\": \"amount\", \"orientation\": \"v\", \"text\": \"\", \"x\": [\"2018-01-31\", \"2018-02-28\", \"2018-03-31\", \"2018-04-30\", \"2018-05-31\", \"2018-06-30\", \"2018-07-31\", \"2018-08-31\", \"2018-09-30\", \"2018-10-31\", \"2018-11-30\", \"2018-12-31\"], \"y\": [1190.7800000000002, 2036.1200000000001, 1835.58, 5149.469999999999, 2323.63, 2118.3500000000004, 2046.6300000000003, 1991.84, 2171.6, 1993.25, 1650.31, 3108.8000000000006], \"type\": \"bar\", \"uid\": \"c73fa096-476f-4afa-b9e5-27613ffbd9e4\"}], {\"legend\": {\"bgcolor\": \"#F5F6F9\", \"font\": {\"color\": \"#4D5663\"}}, \"paper_bgcolor\": \"#F5F6F9\", \"plot_bgcolor\": \"#F5F6F9\", \"title\": {\"font\": {\"color\": \"#4D5663\"}}, \"xaxis\": {\"gridcolor\": \"#E1E5ED\", \"showgrid\": true, \"tickfont\": {\"color\": \"#4D5663\"}, \"title\": {\"text\": \"\", \"font\": {\"color\": \"#4D5663\"}}, \"zerolinecolor\": \"#E1E5ED\"}, \"yaxis\": {\"gridcolor\": \"#E1E5ED\", \"showgrid\": true, \"tickfont\": {\"color\": \"#4D5663\"}, \"title\": {\"text\": \"\", \"font\": {\"color\": \"#4D5663\"}}, \"zerolinecolor\": \"#E1E5ED\"}}, {\"showLink\": true, \"linkText\": \"Export to plot.ly\", \"plotlyServerURL\": \"https://plot.ly\"}); \n",
       "}\n",
       "});</script><script type=\"text/javascript\">window.addEventListener(\"resize\", function(){if (document.getElementById(\"e0193f5a-e410-4cad-be5e-dcc93a4a8236\")) {window._Plotly.Plots.resize(document.getElementById(\"e0193f5a-e410-4cad-be5e-dcc93a4a8236\"));};})</script>"
      ],
      "text/vnd.plotly.v1+html": [
       "<div id=\"e0193f5a-e410-4cad-be5e-dcc93a4a8236\" style=\"height: 525px; width: 100%;\" class=\"plotly-graph-div\"></div><script type=\"text/javascript\">require([\"plotly\"], function(Plotly) { window.PLOTLYENV=window.PLOTLYENV || {};window.PLOTLYENV.BASE_URL=\"https://plot.ly\";\n",
       "if (document.getElementById(\"e0193f5a-e410-4cad-be5e-dcc93a4a8236\")) {\n",
       "    Plotly.newPlot(\"e0193f5a-e410-4cad-be5e-dcc93a4a8236\", [{\"marker\": {\"color\": \"rgba(255, 153, 51, 0.6)\", \"line\": {\"color\": \"rgba(255, 153, 51, 1.0)\", \"width\": 1}}, \"name\": \"amount\", \"orientation\": \"v\", \"text\": \"\", \"x\": [\"2018-01-31\", \"2018-02-28\", \"2018-03-31\", \"2018-04-30\", \"2018-05-31\", \"2018-06-30\", \"2018-07-31\", \"2018-08-31\", \"2018-09-30\", \"2018-10-31\", \"2018-11-30\", \"2018-12-31\"], \"y\": [1190.7800000000002, 2036.1200000000001, 1835.58, 5149.469999999999, 2323.63, 2118.3500000000004, 2046.6300000000003, 1991.84, 2171.6, 1993.25, 1650.31, 3108.8000000000006], \"type\": \"bar\", \"uid\": \"c73fa096-476f-4afa-b9e5-27613ffbd9e4\"}], {\"legend\": {\"bgcolor\": \"#F5F6F9\", \"font\": {\"color\": \"#4D5663\"}}, \"paper_bgcolor\": \"#F5F6F9\", \"plot_bgcolor\": \"#F5F6F9\", \"title\": {\"font\": {\"color\": \"#4D5663\"}}, \"xaxis\": {\"gridcolor\": \"#E1E5ED\", \"showgrid\": true, \"tickfont\": {\"color\": \"#4D5663\"}, \"title\": {\"text\": \"\", \"font\": {\"color\": \"#4D5663\"}}, \"zerolinecolor\": \"#E1E5ED\"}, \"yaxis\": {\"gridcolor\": \"#E1E5ED\", \"showgrid\": true, \"tickfont\": {\"color\": \"#4D5663\"}, \"title\": {\"text\": \"\", \"font\": {\"color\": \"#4D5663\"}}, \"zerolinecolor\": \"#E1E5ED\"}}, {\"showLink\": true, \"linkText\": \"Export to plot.ly\", \"plotlyServerURL\": \"https://plot.ly\"}); \n",
       "}\n",
       "});</script><script type=\"text/javascript\">window.addEventListener(\"resize\", function(){if (document.getElementById(\"e0193f5a-e410-4cad-be5e-dcc93a4a8236\")) {window._Plotly.Plots.resize(document.getElementById(\"e0193f5a-e410-4cad-be5e-dcc93a4a8236\"));};})</script>"
      ]
     },
     "metadata": {},
     "output_type": "display_data"
    }
   ],
   "source": [
    "# Grocery History\n",
    "df18.amount.resample('M').sum().iplot(kind='bar')"
   ]
  },
  {
   "cell_type": "code",
   "execution_count": 8,
   "metadata": {},
   "outputs": [
    {
     "data": {
      "text/plain": [
       "<matplotlib.axes._subplots.AxesSubplot at 0x110a82a58>"
      ]
     },
     "execution_count": 8,
     "metadata": {},
     "output_type": "execute_result"
    },
    {
     "data": {
      "image/png": "[encoded data removed]",
      "text/plain": [
       "<matplotlib.figure.Figure at 0x110aaa198>"
      ]
     },
     "metadata": {},
     "output_type": "display_data"
    }
   ],
   "source": [
    "df[df['category'] == 'Groceries'].amount.resample('M').sum().plot(kind='bar')"
   ]
  },
  {
   "cell_type": "code",
   "execution_count": 100,
   "metadata": {},
   "outputs": [
    {
     "data": {
      "text/plain": [
       "<matplotlib.axes._subplots.AxesSubplot at 0x1a1fae4d68>"
      ]
     },
     "execution_count": 100,
     "metadata": {},
     "output_type": "execute_result"
    },
    {
     "data": {
      "image/png": "[encoded data removed]",
      "text/plain": [
       "<matplotlib.figure.Figure at 0x1138569e8>"
      ]
     },
     "metadata": {},
     "output_type": "display_data"
    }
   ],
   "source": [
    "df[df['envelope_id'] < 2000].amount.resample('M').sum().plot(kind='bar')"
   ]
  },
  {
   "cell_type": "code",
   "execution_count": 17,
   "metadata": {
    "collapsed": true
   },
   "outputs": [],
   "source": [
    "import plotly.graph_objs as go"
   ]
  },
  {
   "cell_type": "code",
   "execution_count": 138,
   "metadata": {},
   "outputs": [
    {
     "data": {
      "text/plain": [
       "date\n",
       "2018-12-31    27616.36\n",
       "Freq: A-DEC, Name: amount, dtype: float64"
      ]
     },
     "execution_count": 138,
     "metadata": {},
     "output_type": "execute_result"
    }
   ],
   "source": [
    "# bar = df.amount.resample('M').sum().iplot(kind='bar')\n",
    "\n",
    "def average_sampler(data):\n",
    "    print('------------')\n",
    "    print(data)\n",
    "    return np.mean(data)\n",
    "    \n",
    "df18.amount.resample('Y').sum()\n"
   ]
  },
  {
   "cell_type": "code",
   "execution_count": null,
   "metadata": {
    "collapsed": true
   },
   "outputs": [],
   "source": []
  }
 ],
 "metadata": {
  "kernelspec": {
   "display_name": "Python 2",
   "language": "python",
   "name": "python2"
  },
  "language_info": {
   "codemirror_mode": {
    "name": "ipython",
    "version": 2
   },
   "file_extension": ".py",
   "mimetype": "text/x-python",
   "name": "python",
   "nbconvert_exporter": "python",
   "pygments_lexer": "ipython2",
   "version": "2.7.13"
  }
 },
 "nbformat": 4,
 "nbformat_minor": 2
}
